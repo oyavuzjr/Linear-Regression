{
 "cells": [
  {
   "cell_type": "markdown",
   "metadata": {},
   "source": [
    "# Linear Regression \n",
    "## Part 1 - What is it?\n",
    "<hr>"
   ]
  },
  {
   "cell_type": "markdown",
   "metadata": {},
   "source": [
    "<img style=\"float:left\" src=\"images/LinearRegressionMeme.jpg\">"
   ]
  },
  {
   "cell_type": "markdown",
   "metadata": {},
   "source": [
    "## Introduction"
   ]
  },
  {
   "cell_type": "markdown",
   "metadata": {},
   "source": [
    "Understanding linear regression is a prerequisite to understanding more complex machine learning models.  \n",
    "This is because linear regression is the simplest model-based machine learning method.  \n",
    "But what exactly is a \"model\"?"
   ]
  },
  {
   "cell_type": "markdown",
   "metadata": {},
   "source": [
    "### What are models?  \n",
    "\n",
    "A model is an (often simplified) representation of phenomena that occurs in the real world.  \n",
    "A statistical or machine learning model often requires data related to the phenomena that it is trying to model.\n",
    "\n",
    "### What is regression?  \n",
    "\n",
    "Simply put, regression is the study of dependance between variables.  \n",
    "More often than not, we are more interested in a specific variable which we call the **response variable**.  \n",
    "We often use one or more **explanatory variables** in order to study their relationship to the response variable, the one we are more interested in.  \n",
    "\n",
    "### Example\n",
    "\n",
    "Suppose I am interested in understanding why trees have a specific volume.  \n",
    "The relationship between the volume and other properties of the tree can be modeled.  \n",
    "There are many forces of nature such as gravity, carbon dioxide levels, minerals in the soil, etc that affects what a tree's volume might be. In \"modeling\" this relationship, we are greatly simplifying the true relationship by only trying to describe a tree's volume using the data that we have at our disposal.  \n",
    "\n",
    "\n",
    "In this case, since I am specifically interested in the volume, we would choose this as our **response variable**.  \n",
    "The **explanatory variables** would be whatever data I have related to the girth, such as the height or volume of the tree.  \n",
    "\n",
    "### What does regression help us do?  \n",
    "\n",
    "Regression helps us understand the relationship between the response variable and the explanatory variables.  \n",
    "After we have created the linear regression model, we can use it to predict response variables using the explanatory variables."
   ]
  },
  {
   "cell_type": "markdown",
   "metadata": {},
   "source": [
    "<br>"
   ]
  },
  {
   "cell_type": "markdown",
   "metadata": {},
   "source": [
    "## What does it mean to be \"Linear\""
   ]
  },
  {
   "cell_type": "markdown",
   "metadata": {},
   "source": [
    "Now we understand that models help us create simpler versions of things that exist in the real world using data.  \n",
    "We also understand that Linear Regression is the simplest model that we can create.  \n",
    "But what does the **\"linear\"** part in linear regression mean?  \n",
    "\n",
    "<small><i>You can probably go on wikipedia and read a much more detailed explanation of the distinction, but we will briefly talk about it here.</i></small>"
   ]
  },
  {
   "cell_type": "markdown",
   "metadata": {},
   "source": [
    "### Linear Functions\n",
    "\n",
    "In the simplest of terms, linear functions are functions whose graph is a straight line.  \n",
    "This means that the function will have a fixed \"slope\" or derivative as the x value changes.  \n",
    "\n",
    "<small><a href=\"https://en.wikipedia.org/wiki/Linear_function\" target=\"_blank\">Read more</a></small>  "
   ]
  },
  {
   "cell_type": "markdown",
   "metadata": {},
   "source": [
    "<img src=\"images/LinearFunctionsExamples.png\">"
   ]
  },
  {
   "cell_type": "markdown",
   "metadata": {},
   "source": [
    "Here are some examples of linear functions.  \n",
    "You can see that all these functions essentially are straight lines.  \n",
    "The amount that the y value changes with respect to the x value is constant throughout the entire graph. "
   ]
  },
  {
   "cell_type": "markdown",
   "metadata": {},
   "source": [
    "<br>"
   ]
  },
  {
   "cell_type": "markdown",
   "metadata": {},
   "source": [
    "### NonLinear Functions"
   ]
  },
  {
   "cell_type": "markdown",
   "metadata": {},
   "source": [
    "With the lack of a better definition, NonLinear functions are all functions that are not linear.  \n",
    "A more mathematical description would be functions where the output variable y is not proportional to the input variable.  \n",
    "This means that the change in y per change in x is different on different points of the graph, resulting in a graph that does not look like a line.  \n",
    "\n",
    "<small><a href=\"https://en.wikipedia.org/wiki/Nonlinear_system\" target=\"_blank\">Read more</a></small>  "
   ]
  },
  {
   "cell_type": "markdown",
   "metadata": {},
   "source": [
    "<img src=\"images/NonLinearFunctionsExamples.png\">"
   ]
  },
  {
   "cell_type": "markdown",
   "metadata": {},
   "source": [
    "<br>"
   ]
  },
  {
   "cell_type": "markdown",
   "metadata": {},
   "source": [
    "### What does this mean for Linear Regression?"
   ]
  },
  {
   "cell_type": "markdown",
   "metadata": {},
   "source": [
    "This means that we can use linear regression in order to model relationships between variables that are approximately linear.  \n",
    "Of course in practice, we never see data that is perfectly linear. However, whether or not a linear model is feasible for your use case shouldn't be too hard to determine as seeing a linear pattern is not too hard."
   ]
  }
 ],
 "metadata": {
  "kernelspec": {
   "display_name": "Python 3",
   "language": "python",
   "name": "python3"
  },
  "language_info": {
   "codemirror_mode": {
    "name": "ipython",
    "version": 3
   },
   "file_extension": ".py",
   "mimetype": "text/x-python",
   "name": "python",
   "nbconvert_exporter": "python",
   "pygments_lexer": "ipython3",
   "version": "3.7.0"
  }
 },
 "nbformat": 4,
 "nbformat_minor": 2
}
