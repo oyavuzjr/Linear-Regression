{
 "cells": [
  {
   "cell_type": "markdown",
   "metadata": {},
   "source": [
    "# Part 2 - How to use it\n",
    "<hr>"
   ]
  },
  {
   "cell_type": "markdown",
   "metadata": {},
   "source": [
    "![meme](https://www.orhanyavuz.com/Linear-Regression/LinearRegressionMeme2.png)"
   ]
  },
  {
   "cell_type": "markdown",
   "metadata": {},
   "source": [
    "This part will focus on how to use a linear regression model.  \n",
    "We are going to skip the process of **training** the model and treat it as a black box.  \n",
    "Instead, in this part we will see what to do after the model has been created and we want to **predict** new variables,"
   ]
  },
  {
   "cell_type": "markdown",
   "metadata": {},
   "source": [
    "This is a typical workflow to follow when trying to train and use a model.  \n",
    "We use our data to **train** the model. After that, we can use the model to **predict** new values"
   ]
  },
  {
   "cell_type": "markdown",
   "metadata": {},
   "source": [
    "<div class=\"row\"><img src=\"https://www.orhanyavuz.com/Linear-Regression/diagram.png\"/></div>\n",
    "<div class=\"row\"><img src=\"https://www.orhanyavuz.com/Linear-Regression/diagram2.png\"/></div>"
   ]
  },
  {
   "cell_type": "markdown",
   "metadata": {},
   "source": [
    "Using a method called **least squares**, we can estimate the best values for m and n in order to best fit our data.  \n",
    "For now, we won't worry about the method itself and focus on the resulting model."
   ]
  },
  {
   "cell_type": "markdown",
   "metadata": {},
   "source": [
    "**Parameters**"
   ]
  },
  {
   "cell_type": "markdown",
   "metadata": {},
   "source": [
    "Parameters are tricky because they mean different things in different parts of the process.  \n",
    "when **training** the model,\n",
    "<pre>The parameters are values we want to find using the explanatory and response variables.</pre>"
   ]
  },
  {
   "cell_type": "markdown",
   "metadata": {},
   "source": [
    "**y = mx + b**  \n",
    "This formula is deeply important when we are talking about regression because any model we end up creating with linear regression will use this formula with the **parameters** it has learned. This process is called **training** the model.   \n",
    "\n",
    "Models have parameters which they use to calculate the predicted response.  \n",
    "In the case of linear regression, we have 2 parameters: the slope (m), and the intercept (b).  \n",
    "These are also the 2 constant values we need in our well known equation y = mx + b\n",
    "\n"
   ]
  },
  {
   "cell_type": "markdown",
   "metadata": {},
   "source": [
    "<div style=\"text-align:center\">\n",
    "<a href=\"https://www.orhanyavuz.com/projects/Linear-Regression/Linear-Regression-1\" style=\"color:white\"><div class=\"btn btn-primary\">Prev</div></a>\n",
    "<a href=\"https://www.orhanyavuz.com/projects/Linear-Regression/Linear-Regression-3\" style=\"color:white\"><div class=\"btn btn-primary\">Next</div></a>\n",
    "</div>"
   ]
  }
 ],
 "metadata": {
  "kernelspec": {
   "display_name": "Python 3",
   "language": "python",
   "name": "python3"
  },
  "language_info": {
   "codemirror_mode": {
    "name": "ipython",
    "version": 3
   },
   "file_extension": ".py",
   "mimetype": "text/x-python",
   "name": "python",
   "nbconvert_exporter": "python",
   "pygments_lexer": "ipython3",
   "version": "3.8.8"
  }
 },
 "nbformat": 4,
 "nbformat_minor": 2
}
