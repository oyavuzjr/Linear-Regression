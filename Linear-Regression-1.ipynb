{
 "cells": [
  {
   "cell_type": "markdown",
   "source": [
    "# Part 1 - What is it?\n",
    "<hr>"
   ],
   "metadata": {}
  },
  {
   "cell_type": "markdown",
   "source": [
    "![meme](https://www.orhanyavuz.com/Linear-Regression/LinearRegressionMeme.jpg)"
   ],
   "metadata": {}
  },
  {
   "cell_type": "markdown",
   "source": [
    "## Introduction"
   ],
   "metadata": {}
  },
  {
   "cell_type": "markdown",
   "source": [
    "Understanding linear regression is a prerequisite to understanding more complex machine learning models.  \n",
    "This is because linear regression is the simplest model-based machine learning method.  \n",
    "But what exactly is a \"model\"?"
   ],
   "metadata": {}
  },
  {
   "cell_type": "markdown",
   "source": [
    "### What are models?  \n",
    "\n",
    "A model is an (often simplified) representation of phenomena that occurs in the real world.  \n",
    "A statistical or machine learning model often requires data related to the phenomena that it is trying to model.\n",
    "\n",
    "### What is regression?  \n",
    "\n",
    "Simply put, regression is the study of dependance between variables.  \n",
    "More often than not, we are more interested in a specific variable which we call the **response variable**.  \n",
    "We often use one or more **explanatory variables** in order to study their relationship to the response variable, the one we are more interested in.  "
   ],
   "metadata": {}
  },
  {
   "cell_type": "markdown",
   "source": [
    "![trees](https://www.orhanyavuz.com/Linear-Regression/trees.png)"
   ],
   "metadata": {}
  },
  {
   "cell_type": "markdown",
   "source": [
    "Typically we would place our response variable in the y axis, and explanatory variable in the x axis."
   ],
   "metadata": {}
  },
  {
   "cell_type": "markdown",
   "source": [
    "\n",
    "### Example\n",
    "\n",
    "Suppose I am interested in understanding why trees have a specific volume.  \n",
    "The relationship between the volume and other properties of the tree can be modeled.  \n",
    "There are many forces of nature such as gravity, carbon dioxide levels, minerals in the soil, etc that affects what a tree's volume might be. In \"modeling\" this relationship, we are greatly simplifying the true relationship by only trying to describe a tree's volume using the data that we have at our disposal.  \n",
    "\n",
    "\n",
    "In this case, since I am specifically interested in the volume, we would choose this as our **response variable**.  \n",
    "The **explanatory variables** would be whatever data I have related to the girth, such as the height or volume of the tree.  \n",
    "\n",
    "### What does regression help us do?  \n",
    "\n",
    "Regression helps us understand the relationship between the response variable and the explanatory variables.  \n",
    "After we have created the linear regression model, we can use it to predict response variables using the explanatory variables."
   ],
   "metadata": {}
  },
  {
   "cell_type": "markdown",
   "source": [
    "<br>"
   ],
   "metadata": {}
  },
  {
   "cell_type": "markdown",
   "source": [
    "## What is Linear?"
   ],
   "metadata": {}
  },
  {
   "cell_type": "markdown",
   "source": [
    "Now we understand that models help us create simpler versions of things that exist in the real world using data.  \n",
    "We also understand that Linear Regression is the simplest model that we can create.  \n",
    "But what does the **\"linear\"** part in linear regression mean?  \n",
    "\n",
    "<small><i>You can probably go on wikipedia and read a much more detailed explanation of the distinction, but we will briefly talk about it here.</i></small>"
   ],
   "metadata": {}
  },
  {
   "cell_type": "markdown",
   "source": [
    "### Linear Functions\n",
    "\n",
    "In the simplest of terms, linear functions are functions whose graph is a straight line.  \n",
    "This means that the function will have a fixed \"slope\" or derivative as the x value changes.  \n",
    "\n",
    "<small><a href=\"https://en.wikipedia.org/wiki/Linear_function\" target=\"_blank\">Read more</a></small>  "
   ],
   "metadata": {}
  },
  {
   "cell_type": "markdown",
   "source": [
    "![LinearFunctionsExamples](https://www.orhanyavuz.com/Linear-Regression/LinearFunctionsExamples.png)"
   ],
   "metadata": {}
  },
  {
   "cell_type": "markdown",
   "source": [
    "Here are some examples of linear functions.  \n",
    "You can see that all these functions essentially are straight lines.  \n",
    "The amount that the y value changes with respect to the x value is constant throughout the entire graph. "
   ],
   "metadata": {}
  },
  {
   "cell_type": "markdown",
   "source": [
    "<br>"
   ],
   "metadata": {}
  },
  {
   "cell_type": "markdown",
   "source": [
    "### NonLinear Functions"
   ],
   "metadata": {}
  },
  {
   "cell_type": "markdown",
   "source": [
    "With the lack of a better definition, NonLinear functions are all functions that are not linear.  \n",
    "A more mathematical description would be functions where the output variable y is not proportional to the input variable.  \n",
    "This means that the change in y per change in x is different on different points of the graph, resulting in a graph that does not look like a line.  \n",
    "\n",
    "<small><a href=\"https://en.wikipedia.org/wiki/Nonlinear_system\" target=\"_blank\">Read more</a></small>  "
   ],
   "metadata": {}
  },
  {
   "cell_type": "markdown",
   "source": [
    "![NonLinearFunctionsExamples](https://www.orhanyavuz.com/Linear-Regression/NonLinearFunctionsExamples.png)"
   ],
   "metadata": {}
  },
  {
   "cell_type": "markdown",
   "source": [
    "<br>"
   ],
   "metadata": {}
  },
  {
   "cell_type": "markdown",
   "source": [
    "### What does this mean for Linear Regression?"
   ],
   "metadata": {}
  },
  {
   "cell_type": "markdown",
   "source": [
    "This means that we can use linear regression in order to model relationships between variables that are approximately linear.  \n",
    "Of course in practice, we never see data that is perfectly linear. However, whether or not a linear model is feasible for your use case shouldn't be too hard to determine as seeing a linear pattern is not too hard."
   ],
   "metadata": {}
  },
  {
   "cell_type": "markdown",
   "source": [
    "<br>"
   ],
   "metadata": {}
  },
  {
   "cell_type": "markdown",
   "source": [
    "## Lines"
   ],
   "metadata": {}
  },
  {
   "cell_type": "markdown",
   "source": [
    "You might remember the concept of a line equation from middle school.  \n",
    "It has the following formula"
   ],
   "metadata": {}
  },
  {
   "cell_type": "markdown",
   "source": [
    "### y = mx + b"
   ],
   "metadata": {}
  },
  {
   "cell_type": "markdown",
   "source": [
    "### The Slope **(m)**  "
   ],
   "metadata": {}
  },
  {
   "cell_type": "markdown",
   "source": [
    "The slope represents the steepness of the line.  \n",
    "0 is not steep at all (horizontal line)  \n",
    "1 is the steepest possible line (a vertical line)\n",
    "negative slopes are flipped with respect to the x axis because the y values are switching signs."
   ],
   "metadata": {}
  },
  {
   "cell_type": "markdown",
   "source": [
    "![SlopeExamples](https://www.orhanyavuz.com/Linear-Regression/SlopeExamples.png)"
   ],
   "metadata": {}
  },
  {
   "cell_type": "markdown",
   "source": [
    "### The Intercept **(n)**"
   ],
   "metadata": {}
  },
  {
   "cell_type": "markdown",
   "source": [
    "The intercept is how much the line is shifted up or down vertically.  \n",
    "With the intercept set to 0, any line that we could draw would go through the origin (0,0).  "
   ],
   "metadata": {}
  },
  {
   "cell_type": "markdown",
   "source": [
    "![InterceptExamples](https://www.orhanyavuz.com/Linear-Regression/InterceptExamples.png)"
   ],
   "metadata": {}
  },
  {
   "cell_type": "markdown",
   "source": [
    "<div style=\"text-align:center\">\n",
    "<div class=\"btn btn-primary disabled\">Prev</div>\n",
    "<a href=\"https://www.orhanyavuz.com/projects/Linear-Regression/Linear-Regression-2\" style=\"color:white\"><div class=\"btn btn-primary\">Next</div></a>\n",
    "</div>"
   ],
   "metadata": {}
  }
 ],
 "metadata": {
  "kernelspec": {
   "display_name": "Python 3",
   "language": "python",
   "name": "python3"
  },
  "language_info": {
   "codemirror_mode": {
    "name": "ipython",
    "version": 3
   },
   "file_extension": ".py",
   "mimetype": "text/x-python",
   "name": "python",
   "nbconvert_exporter": "python",
   "pygments_lexer": "ipython3",
   "version": "3.7.0"
  }
 },
 "nbformat": 4,
 "nbformat_minor": 2
}