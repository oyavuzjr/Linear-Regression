{
 "cells": [
  {
   "cell_type": "markdown",
   "metadata": {},
   "source": [
    "# Part 1 - What is it?\n",
    "<hr>"
   ]
  },
  {
   "cell_type": "markdown",
   "metadata": {},
   "source": [
    "![meme](https://www.orhanyavuz.com/Linear-Regression/LinearRegressionMeme.jpg)"
   ]
  },
  {
   "cell_type": "markdown",
   "metadata": {},
   "source": [
    "## Introduction"
   ]
  },
  {
   "cell_type": "markdown",
   "metadata": {},
   "source": [
    "Understanding linear regression is a prerequisite to understanding more complex machine learning models.  \n",
    "This is because linear regression is the simplest model-based machine learning method.  \n",
    "But what exactly is a \"model\"?"
   ]
  },
  {
   "cell_type": "markdown",
   "metadata": {},
   "source": [
    "### What are models?  \n",
    "\n",
    "A model is an (often simplified) representation of phenomena that occurs in the real world.  \n",
    "A statistical or machine learning model often requires data related to the phenomena that it is trying to model.\n",
    "\n",
    "### What is regression?  \n",
    "\n",
    "Simply put, regression is the study of dependence between variables.  \n",
    "More often than not, we are more interested in a specific variable which we call the **response variable**.  \n",
    "We often use one or more **explanatory variables** in order to study their relationship to the response variable, the one we are more interested in.  "
   ]
  },
  {
   "cell_type": "code",
   "execution_count": 42,
   "metadata": {},
   "outputs": [
    {
     "data": {
      "text/html": [
       "<div>\n",
       "<style scoped>\n",
       "    .dataframe tbody tr th:only-of-type {\n",
       "        vertical-align: middle;\n",
       "    }\n",
       "\n",
       "    .dataframe tbody tr th {\n",
       "        vertical-align: top;\n",
       "    }\n",
       "\n",
       "    .dataframe thead th {\n",
       "        text-align: right;\n",
       "    }\n",
       "</style>\n",
       "<table border=\"1\" class=\"dataframe\">\n",
       "  <thead>\n",
       "    <tr style=\"text-align: right;\">\n",
       "      <th></th>\n",
       "      <th>Girth</th>\n",
       "      <th>Height</th>\n",
       "      <th>Volume</th>\n",
       "    </tr>\n",
       "  </thead>\n",
       "  <tbody>\n",
       "    <tr>\n",
       "      <th>Tree 1</th>\n",
       "      <td>8.3</td>\n",
       "      <td>70</td>\n",
       "      <td>10.3</td>\n",
       "    </tr>\n",
       "    <tr>\n",
       "      <th>Tree 2</th>\n",
       "      <td>8.6</td>\n",
       "      <td>65</td>\n",
       "      <td>10.3</td>\n",
       "    </tr>\n",
       "    <tr>\n",
       "      <th>Tree 3</th>\n",
       "      <td>8.8</td>\n",
       "      <td>63</td>\n",
       "      <td>10.2</td>\n",
       "    </tr>\n",
       "    <tr>\n",
       "      <th>Tree 4</th>\n",
       "      <td>10.5</td>\n",
       "      <td>72</td>\n",
       "      <td>16.4</td>\n",
       "    </tr>\n",
       "    <tr>\n",
       "      <th>Tree 5</th>\n",
       "      <td>10.7</td>\n",
       "      <td>81</td>\n",
       "      <td>18.8</td>\n",
       "    </tr>\n",
       "  </tbody>\n",
       "</table>\n",
       "</div>"
      ],
      "text/plain": [
       "        Girth  Height  Volume\n",
       "Tree 1    8.3      70    10.3\n",
       "Tree 2    8.6      65    10.3\n",
       "Tree 3    8.8      63    10.2\n",
       "Tree 4   10.5      72    16.4\n",
       "Tree 5   10.7      81    18.8"
      ]
     },
     "execution_count": 42,
     "metadata": {},
     "output_type": "execute_result"
    }
   ],
   "source": [
    "import matplotlib.pyplot as plt\n",
    "import pandas as pd\n",
    "%matplotlib inline\n",
    "trees=pd.read_csv(\"trees.csv\")\n",
    "trees.index=trees.index.map(lambda x:\"Tree \"+str(x+1))\n",
    "trees.head()"
   ]
  },
  {
   "cell_type": "markdown",
   "metadata": {},
   "source": [
    "This is what our trees data looks like.  \n",
    "We have information on the Girth, Height, and Volume of each tree."
   ]
  },
  {
   "cell_type": "code",
   "execution_count": 31,
   "metadata": {
    "tags": [
     "hide-input"
    ]
   },
   "outputs": [
    {
     "data": {
      "image/png": "[encoded data removed]",
      "text/plain": [
       "<Figure size 432x288 with 1 Axes>"
      ]
     },
     "metadata": {
      "needs_background": "light"
     },
     "output_type": "display_data"
    }
   ],
   "source": [
    "trees.plot.scatter(x=\"Girth\",y=\"Volume\")\n",
    "plt.title(\"Tree Data\")\n",
    "plt.show()"
   ]
  },
  {
   "cell_type": "markdown",
   "metadata": {},
   "source": [
    "Typically we would place our response variable in the y axis, and explanatory variable in the x axis."
   ]
  },
  {
   "cell_type": "markdown",
   "metadata": {},
   "source": [
    "\n",
    "### Example\n",
    "\n",
    "Suppose I am interested in understanding why trees have a specific volume.  \n",
    "The relationship between the volume and other properties of the tree can be modeled.  \n",
    "There are many forces of nature such as gravity, carbon dioxide levels, minerals in the soil, etc that affects what a tree's volume might be. In \"modeling\" this relationship, we are greatly simplifying the true relationship by only trying to describe a tree's volume using the data that we have at our disposal.  \n",
    "\n",
    "\n",
    "In this case, since I am specifically interested in the volume, we would choose this as our **response variable**.  \n",
    "The **explanatory variables** would be whatever data I have related to the girth, such as the height or volume of the tree.  \n",
    "\n",
    "### What does regression help us do?  \n",
    "\n",
    "Regression helps us understand the relationship between the response variable and the explanatory variables.  \n",
    "After we have created the linear regression model, we can use it to predict response variables using the explanatory variables."
   ]
  },
  {
   "cell_type": "markdown",
   "metadata": {},
   "source": [
    "<br>"
   ]
  },
  {
   "cell_type": "markdown",
   "metadata": {},
   "source": [
    "## What is Linear?"
   ]
  },
  {
   "cell_type": "markdown",
   "metadata": {},
   "source": [
    "Now we understand that models help us create simpler versions of things that exist in the real world using data.  \n",
    "We also understand that Linear Regression is the simplest model that we can create.  \n",
    "But what does the **\"linear\"** part in linear regression mean?  \n",
    "\n",
    "<small><i>You can probably go on wikipedia and read a much more detailed explanation of the distinction, but we will briefly talk about it here.</i></small>"
   ]
  },
  {
   "cell_type": "markdown",
   "metadata": {},
   "source": [
    "### Linear Functions\n",
    "\n",
    "In the simplest of terms, linear functions are functions whose graph is a straight line.  \n",
    "This means that the function will have a fixed \"slope\" or derivative as the x value changes.  \n",
    "\n",
    "<small><a href=\"https://en.wikipedia.org/wiki/Linear_function\" target=\"_blank\">Read more</a></small>  "
   ]
  },
  {
   "cell_type": "markdown",
   "metadata": {},
   "source": [
    "<div class=\"row\"><img src=\"https://www.orhanyavuz.com/Linear-Regression/LinearFunctionsExamples.png\" /></div>"
   ]
  },
  {
   "cell_type": "markdown",
   "metadata": {},
   "source": [
    "Here are some examples of linear functions.  \n",
    "You can see that all these functions essentially are straight lines.  \n",
    "The amount that the y value changes with respect to the x value is constant throughout the entire graph. "
   ]
  },
  {
   "cell_type": "markdown",
   "metadata": {},
   "source": [
    "<br>"
   ]
  },
  {
   "cell_type": "markdown",
   "metadata": {},
   "source": [
    "### NonLinear Functions"
   ]
  },
  {
   "cell_type": "markdown",
   "metadata": {},
   "source": [
    "With the lack of a better definition, NonLinear functions are all functions that are not linear.  \n",
    "A more mathematical description would be functions where the output variable y is not proportional to the input variable.  \n",
    "This means that the change in y per change in x is different on different points of the graph, resulting in a graph that does not look like a line.  \n",
    "\n",
    "<small><a href=\"https://en.wikipedia.org/wiki/Nonlinear_system\" target=\"_blank\">Read more</a></small>  "
   ]
  },
  {
   "cell_type": "markdown",
   "metadata": {},
   "source": [
    "<div class=\"row\"> <img src=\"https://www.orhanyavuz.com/Linear-Regression/NonLinearFunctionsExamples.png\"/></div>"
   ]
  },
  {
   "cell_type": "markdown",
   "metadata": {},
   "source": [
    "<br>"
   ]
  },
  {
   "cell_type": "markdown",
   "metadata": {},
   "source": [
    "### What does this mean for Linear Regression?"
   ]
  },
  {
   "cell_type": "markdown",
   "metadata": {},
   "source": [
    "This means that we can use linear regression in order to model relationships between variables that are approximately linear.  \n",
    "Of course in practice, we never see data that is perfectly linear. However, whether or not a linear model is feasible for your use case shouldn't be too hard to determine as seeing a linear pattern is not too hard."
   ]
  },
  {
   "cell_type": "code",
   "execution_count": 30,
   "metadata": {},
   "outputs": [
    {
     "data": {
      "image/png": "[encoded data removed]",
      "text/plain": [
       "<Figure size 540x540 with 12 Axes>"
      ]
     },
     "metadata": {
      "needs_background": "light"
     },
     "output_type": "display_data"
    }
   ],
   "source": [
    "import seaborn as sns\n",
    "sns.pairplot(trees)\n",
    "plt.show()"
   ]
  },
  {
   "cell_type": "markdown",
   "metadata": {},
   "source": [
    "If we plot all the columns against each other we can see the relationship between each variable.  \n",
    "Since our **response variable** is the Volume, lets try to model its relationship with one of the other variables.  \n",
    "Since we are using linear regression, we have to make sure that the relationship that we are trying to model is in fact, **linear**.\n",
    "\n",
    "We can see that the Volume has an approximately linear relationship with the height, so we will model the Volume using Girth.\n"
   ]
  },
  {
   "cell_type": "markdown",
   "metadata": {},
   "source": [
    "<br>"
   ]
  },
  {
   "cell_type": "markdown",
   "metadata": {},
   "source": [
    "## Lines"
   ]
  },
  {
   "cell_type": "markdown",
   "metadata": {},
   "source": [
    "You might remember the concept of a line equation from middle school.  \n",
    "It has the following formula"
   ]
  },
  {
   "cell_type": "markdown",
   "metadata": {},
   "source": [
    "### y = mx + b"
   ]
  },
  {
   "cell_type": "markdown",
   "metadata": {},
   "source": [
    "### The Slope **(m)**  "
   ]
  },
  {
   "cell_type": "markdown",
   "metadata": {},
   "source": [
    "The slope represents the steepness of the line.  \n",
    "0 is not steep at all (horizontal line)  \n",
    "1 is the steepest possible line (a vertical line)\n",
    "negative slopes are flipped with respect to the x axis because the y values are switching signs."
   ]
  },
  {
   "cell_type": "markdown",
   "metadata": {},
   "source": [
    "<div class=\"row\"><img src=\"https://www.orhanyavuz.com/Linear-Regression/SlopeExamples.png\"/></div>"
   ]
  },
  {
   "cell_type": "markdown",
   "metadata": {},
   "source": [
    "<br><br>"
   ]
  },
  {
   "cell_type": "markdown",
   "metadata": {},
   "source": [
    "### The Intercept **(n)**"
   ]
  },
  {
   "cell_type": "markdown",
   "metadata": {},
   "source": [
    "The intercept is how much the line is shifted up or down vertically.  \n",
    "With the intercept set to 0, any line that we could draw would go through the origin (0,0).  "
   ]
  },
  {
   "cell_type": "markdown",
   "metadata": {},
   "source": [
    "![InterceptExamples](https://www.orhanyavuz.com/Linear-Regression/InterceptExamples.png)"
   ]
  },
  {
   "cell_type": "markdown",
   "metadata": {},
   "source": [
    "<br>\n",
    "<br>\n",
    "<div style=\"text-align:center\">\n",
    "<div class=\"btn btn-primary disabled\">Prev</div>\n",
    "<a href=\"https://www.orhanyavuz.com/projects/Linear-Regression/Linear-Regression-2\" style=\"color:white\"><div class=\"btn btn-primary\">Next</div></a>\n",
    "</div>\n",
    "<br>\n",
    "<br>"
   ]
  }
 ],
 "metadata": {
  "kernelspec": {
   "display_name": "Python 3",
   "language": "python",
   "name": "python3"
  },
  "language_info": {
   "codemirror_mode": {
    "name": "ipython",
    "version": 3
   },
   "file_extension": ".py",
   "mimetype": "text/x-python",
   "name": "python",
   "nbconvert_exporter": "python",
   "pygments_lexer": "ipython3",
   "version": "3.8.8"
  }
 },
 "nbformat": 4,
 "nbformat_minor": 2
}
